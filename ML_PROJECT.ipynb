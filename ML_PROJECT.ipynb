{
  "nbformat": 4,
  "nbformat_minor": 0,
  "metadata": {
    "colab": {
      "provenance": []
    },
    "kernelspec": {
      "name": "python3",
      "display_name": "Python 3"
    },
    "language_info": {
      "name": "python"
    }
  },
  "cells": [
    {
      "cell_type": "code",
      "execution_count": 2,
      "metadata": {
        "colab": {
          "base_uri": "https://localhost:8080/"
        },
        "id": "-25uwvaAchFg",
        "outputId": "2de631cb-2f31-41c2-d71a-9e30b90128e9"
      },
      "outputs": [
        {
          "output_type": "stream",
          "name": "stdout",
          "text": [
            "Mounted at /content/drive\n"
          ]
        }
      ],
      "source": [
        "from google.colab import drive\n",
        "drive.mount('/content/drive')\n"
      ]
    },
    {
      "cell_type": "code",
      "source": [
        "import os\n",
        "import numpy as np\n",
        "from PIL import Image\n",
        "from sklearn.model_selection import train_test_split\n",
        "from sklearn.preprocessing import StandardScaler\n",
        "from sklearn.metrics import accuracy_score, precision_score, recall_score, f1_score\n",
        "from sklearn.model_selection import train_test_split\n",
        "from sklearn.neighbors import KNeighborsClassifier\n",
        "from sklearn.tree import DecisionTreeClassifier\n",
        "from sklearn.linear_model import LogisticRegression\n",
        "from sklearn.svm import SVC\n",
        "from sklearn.neural_network import MLPClassifier\n",
        "from tensorflow.keras.models import Sequential\n",
        "from tensorflow.keras.layers import Dense\n",
        "import matplotlib.pyplot as plt\n",
        "import pandas as pd"
      ],
      "metadata": {
        "id": "m40FtOEbdKH9"
      },
      "execution_count": 3,
      "outputs": []
    },
    {
      "cell_type": "code",
      "source": [
        "def load_images_from_folder(folder, image_size=(128, 128)):\n",
        "    images = []\n",
        "    labels = []\n",
        ""
      ],
      "metadata": {
        "id": "gYe2Nb-KdXMi"
      },
      "execution_count": 7,
      "outputs": []
    },
    {
      "cell_type": "code",
      "source": [
        "def load_images_from_folder(folder, image_size=(128, 128)):\n",
        "    images = []\n",
        "    labels = []\n",
        "    for label in os.listdir(folder):\n",
        "        label_folder = os.path.join(folder, label)\n",
        "        if os.path.isdir(label_folder):\n",
        "            for filename in os.listdir(label_folder):\n",
        "                img_path = os.path.join(label_folder, filename)\n",
        "                try:\n",
        "                    img = Image.open(img_path).convert('RGB')\n",
        "                    img = img.resize(image_size)\n",
        "                    img_array = np.array(img).flatten()  # Flatten the image\n",
        "                    images.append(img_array)\n",
        "                    labels.append(label)\n",
        "                except Exception as e:\n",
        "                    print(f\"Error loading image {img_path}: {e}\")\n",
        "    return np.array(images), np.array(labels)"
      ],
      "metadata": {
        "id": "EMolBp6WeuhV"
      },
      "execution_count": 8,
      "outputs": []
    },
    {
      "cell_type": "code",
      "source": [
        "def count_classes(folder_path):\n",
        "    return len([name for name in os.listdir(folder_path) if os.path.isdir(os.path.join(folder_path, name))])\n",
        "\n",
        "def evaluate_model(model, X_train, X_test, y_train, y_test):\n",
        "    model.fit(X_train, y_train)\n",
        "    y_pred = model.predict(X_test)\n",
        "\n",
        "    accuracy = accuracy_score(y_test, y_pred)\n",
        "    precision = precision_score(y_test, y_pred, average='weighted')\n",
        "    recall = recall_score(y_test, y_pred, average='weighted')\n",
        "    f1 = f1_score(y_test, y_pred, average='weighted')\n",
        "\n",
        "    return accuracy, precision, recall, f1\n",
        "\n"
      ],
      "metadata": {
        "id": "8FP4_vGxfR5-"
      },
      "execution_count": 9,
      "outputs": []
    },
    {
      "cell_type": "code",
      "source": [
        "train_folder_path = '/content/drive/MyDrive/dataset/train'\n",
        "test_folder_path = '/content/drive/MyDrive/dataset/test'\n",
        "X_train, y_train = load_images_from_folder(train_folder_path, image_size=(128, 128))\n",
        "X_test, y_test = load_images_from_folder(test_folder_path, image_size=(128, 128))\n",
        "\n",
        "\n",
        "\n"
      ],
      "metadata": {
        "id": "wGwuLOMRfctm"
      },
      "execution_count": 11,
      "outputs": []
    },
    {
      "cell_type": "code",
      "source": [
        "from sklearn.preprocessing import LabelEncoder\n",
        "label_encoder = LabelEncoder()\n",
        "y_train_encoded = label_encoder.fit_transform(y_train)\n",
        "y_test_encoded = label_encoder.transform(y_test)\n"
      ],
      "metadata": {
        "id": "WuEmkRILgB6Q"
      },
      "execution_count": 12,
      "outputs": []
    },
    {
      "cell_type": "code",
      "source": [
        "# Standardize the data (recommended for certain algorithms)\n",
        "scaler = StandardScaler()\n",
        "X_train_scaled = scaler.fit_transform(X_train)\n",
        "X_test_scaled = scaler.transform(X_test)\n",
        "\n",
        "\n",
        "\n",
        "# Define models\n",
        "models = {\n",
        "    \"Decision Tree\": DecisionTreeClassifier(),\n",
        "    \"KNN\": KNeighborsClassifier(n_neighbors=1),\n",
        "    \"Logistic Regression\": LogisticRegression(max_iter=500),  # Increased max_iter\n",
        "    \"SVM\": SVC(),\n",
        "    \"ANN\": MLPClassifier(hidden_layer_sizes=(64, 32), max_iter=100)  # Adjust ANN parameters\n",
        "}"
      ],
      "metadata": {
        "id": "pQy6D0U1gjYm"
      },
      "execution_count": 13,
      "outputs": []
    },
    {
      "cell_type": "code",
      "source": [
        "# Evaluate each model\n",
        "results = []\n",
        "\n",
        "for model_name, model in models.items():\n",
        "    model.fit(X_train_scaled, y_train_encoded)  # Use scaled data\n",
        "    y_pred = model.predict(X_test_scaled)  # Ensure predictions are class labels\n",
        "    accuracy = accuracy_score(y_test_encoded, y_pred)\n",
        "    precision = precision_score(y_test_encoded, y_pred, average='weighted')\n",
        "    recall = recall_score(y_test_encoded, y_pred, average='weighted')\n",
        "    f1 = f1_score(y_test_encoded, y_pred, average='weighted')\n",
        "    results.append([model_name, accuracy, precision, recall, f1])\n",
        "\n",
        "\n",
        "\n",
        "# Convert the metrics to percentages\n",
        "results_percentage = []\n",
        "for result in results:\n",
        "    algorithm = result[0]\n",
        "    accuracy = result[1] * 100\n",
        "    precision = result[2] * 100\n",
        "    recall = result[3] * 100\n",
        "    f1_score = result[4] * 100\n",
        "    results_percentage.append([algorithm, accuracy, precision, recall, f1_score])\n",
        "\n",
        "# Display results in a table format\n",
        "import pandas as pd\n",
        "results_df = pd.DataFrame(results_percentage, columns=[\"Algorithm\", \"Accuracy (%)\", \"Precision (%)\", \"Recall (%)\", \"F1 Score (%)\"])\n",
        "print(results_df)"
      ],
      "metadata": {
        "colab": {
          "base_uri": "https://localhost:8080/"
        },
        "id": "65IYmH0uhI8i",
        "outputId": "b67bf1d4-ba2c-4037-8556-01902224018d"
      },
      "execution_count": 14,
      "outputs": [
        {
          "output_type": "stream",
          "name": "stdout",
          "text": [
            "             Algorithm  Accuracy (%)  Precision (%)  Recall (%)  F1 Score (%)\n",
            "0        Decision Tree          40.0      39.583333        40.0     39.393939\n",
            "1                  KNN          50.0      50.000000        50.0     40.476190\n",
            "2  Logistic Regression          55.0      59.803922        55.0     48.717949\n",
            "3                  SVM          70.0      73.809524        70.0     68.750000\n",
            "4                  ANN          80.0      80.000000        80.0     80.000000\n"
          ]
        }
      ]
    }
  ]
}